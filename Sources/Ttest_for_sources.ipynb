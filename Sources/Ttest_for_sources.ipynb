{
 "cells": [
  {
   "cell_type": "markdown",
   "metadata": {},
   "source": [
    "# Ttest for  sources\n",
    "\n",
    "Script of Nikita Tyulenev **source_plot_get_full_stc.py** was used"
   ]
  },
  {
   "cell_type": "code",
   "execution_count": 7,
   "metadata": {},
   "outputs": [],
   "source": [
    "import os\n",
    "import mne\n",
    "import numpy as np\n",
    "import pandas as pd\n",
    "from scipy import stats\n",
    "from statsmodels.stats import multitest as mul"
   ]
  },
  {
   "cell_type": "code",
   "execution_count": 36,
   "metadata": {},
   "outputs": [],
   "source": [
    "# This code sets an environment variable called SUBJECTS_DIR\n",
    "os.environ['SUBJECTS_DIR'] = '/net/server/data/Archive/prob_learn/freesurfer'\n",
    "subjects_dir = '/net/server/data/Archive/prob_learn/freesurfer'"
   ]
  },
  {
   "cell_type": "markdown",
   "metadata": {},
   "source": [
    "Функция для отображения значимых отличий в пространсве источников (на мозге), т.е. цветом будет рисоваться значимость: если t критерий меньше нуля, то цвет синий, чем насыщенее цвет, тем значимость больше, тоже самое в обратную сторону (если t критерий больше 0)"
   ]
  },
  {
   "cell_type": "code",
   "execution_count": 3,
   "metadata": {},
   "outputs": [],
   "source": [
    "def signed_p_val(t, p_val):\n",
    "    if t >= 0:\n",
    "        return 1 - p_val\n",
    "    else:\n",
    "        return -(1 - p_val)\n",
    "    \n",
    "vect_signed_p_val = np.vectorize(signed_p_val)     "
   ]
  },
  {
   "cell_type": "markdown",
   "metadata": {},
   "source": [
    "##### сравниваем фидбеки внутри риска"
   ]
  },
  {
   "cell_type": "code",
   "execution_count": 43,
   "metadata": {},
   "outputs": [],
   "source": [
    "session = [\"risk_fb_cur_positive\", \"risk_fb_cur_negative\"]\n",
    "\n",
    "subjects = pd.read_csv('/home/vtretyakova/Рабочий стол/probability_learning/sources/subj_list.csv')['subj_list'].tolist()\n",
    "\n",
    "subjects.remove('P062') #without MRI\n",
    "subjects.remove('P052') # bad segmentation, попробовали запустить freesurfer еще раз не помогло\n",
    "\n",
    "subjects.remove('P032') #ValueError: dimension mismatch - попробовали запустить freesurfer еще раз не помогло. Надо разбираться\n",
    "\n",
    "subjects.remove('P045') #RuntimeError: Could not find neighbor for vertex 4395 / 10242 когда использую для задания пространства источников src, ico5 вместо oct6\n"
   ]
  },
  {
   "cell_type": "code",
   "execution_count": 44,
   "metadata": {},
   "outputs": [],
   "source": [
    "inter = [-0.800, 2.400] #Time interval"
   ]
  },
  {
   "cell_type": "code",
   "execution_count": 11,
   "metadata": {},
   "outputs": [],
   "source": [
    "data_dir = '/net/server/data/Archive/prob_learn/vtretyakova/sources/beta_16_30/beta_16_30_stc_fsaverage_ave_into_subj'"
   ]
  },
  {
   "cell_type": "markdown",
   "metadata": {},
   "source": [
    "### download donor"
   ]
  },
  {
   "cell_type": "code",
   "execution_count": 45,
   "metadata": {},
   "outputs": [],
   "source": [
    "stc_test = mne.read_source_estimate('/net/server/data/Archive/prob_learn/vtretyakova/sources/beta_16_30/beta_16_30_stc_fsaverage_ave_into_subj/P001_risk_fb_cur_negative', 'fsaverage').crop(tmin=inter[0], tmax=inter[1], include_tmax=True)"
   ]
  },
  {
   "cell_type": "markdown",
   "metadata": {},
   "source": [
    "##### make empty dataframe and forler for output files"
   ]
  },
  {
   "cell_type": "code",
   "execution_count": 46,
   "metadata": {},
   "outputs": [],
   "source": [
    "comp1_per_sub = np.zeros(shape=(len(subjects), stc_test.data.shape[0], stc_test.data.shape[1]))\n",
    "comp2_per_sub = np.zeros(shape=(len(subjects), stc_test.data.shape[0], stc_test.data.shape[1]))\n",
    "os.makedirs('/net/server/data/Archive/prob_learn/vtretyakova/sources/beta_16_30/test_risk_neg_vs_pos' , exist_ok = True)"
   ]
  },
  {
   "cell_type": "markdown",
   "metadata": {},
   "source": [
    "# TTEST"
   ]
  },
  {
   "cell_type": "code",
   "execution_count": 47,
   "metadata": {},
   "outputs": [
    {
     "name": "stdout",
     "output_type": "stream",
     "text": [
      "1 P001\n",
      "2 P002\n",
      "3 P004\n",
      "4 P006\n",
      "5 P007\n",
      "6 P008\n",
      "7 P011\n",
      "8 P014\n",
      "9 P015\n",
      "10 P016\n",
      "11 P017\n",
      "12 P019\n",
      "13 P021\n",
      "14 P022\n",
      "15 P023\n",
      "16 P024\n",
      "17 P025\n",
      "18 P028\n",
      "19 P029\n",
      "20 P030\n",
      "21 P031\n",
      "22 P033\n",
      "23 P034\n",
      "24 P035\n",
      "25 P039\n",
      "26 P040\n",
      "27 P042\n",
      "28 P043\n",
      "29 P044\n",
      "30 P047\n",
      "31 P048\n",
      "32 P053\n",
      "33 P055\n",
      "34 P057\n",
      "35 P059\n",
      "36 P060\n"
     ]
    }
   ],
   "source": [
    "for ind, subj in enumerate(subjects):\n",
    "    print(ind + 1, subj)\n",
    "    temp1 = mne.read_source_estimate(os.path.join(data_dir, \"{0}_{1}-lh.stc\".format(subj, session[0]))).crop(tmin=inter[0], tmax=inter[1], include_tmax=True)\n",
    "    #temp1.resample(40)\n",
    "    comp1_per_sub[ind, :, :] = temp1.data\n",
    "    temp2 = mne.read_source_estimate(os.path.join(data_dir, \"{0}_{1}-lh.stc\".format(subj, session[1]))).crop(tmin=inter[0], tmax=inter[1], include_tmax=True)\n",
    "    #temp2.resample(40)\n",
    "    comp2_per_sub[ind, :, :] = temp2.data"
   ]
  },
  {
   "cell_type": "code",
   "execution_count": 21,
   "metadata": {},
   "outputs": [
    {
     "name": "stdout",
     "output_type": "stream",
     "text": [
      "(36, 20484, 21)\n",
      "(36, 20484, 21)\n"
     ]
    }
   ],
   "source": [
    "print(comp1_per_sub.shape)\n",
    "print(comp2_per_sub.shape)"
   ]
  },
  {
   "cell_type": "code",
   "execution_count": 48,
   "metadata": {},
   "outputs": [
    {
     "name": "stdout",
     "output_type": "stream",
     "text": [
      "8.114890798084246e-08 0.3757029067354736 0.9999992890056311\n",
      "-3.772322099189191 0.9550223645604966 6.747333316896733\n"
     ]
    }
   ],
   "source": [
    "t_stat, p_val = stats.ttest_rel(comp2_per_sub, comp1_per_sub, axis=0)\n",
    "    #t_stat, p_val = stats.ttest_1samp(comp1_per_sub, popmean = 0, axis=0)\n",
    "print(p_val.min(), p_val.mean(), p_val.max())\n",
    "print(t_stat.min(), t_stat.mean(), t_stat.max())"
   ]
  },
  {
   "cell_type": "markdown",
   "metadata": {},
   "source": [
    "# full FDR "
   ]
  },
  {
   "cell_type": "code",
   "execution_count": 49,
   "metadata": {},
   "outputs": [],
   "source": [
    "width, height = p_val.shape\n",
    "p_val_resh = p_val.reshape(width * height)\n",
    "_, p_val = mul.fdrcorrection(p_val_resh)\n",
    "p_val = p_val.reshape((width, height))\n",
    "#t_stat = t_stat.reshape((width, height))"
   ]
  },
  {
   "cell_type": "code",
   "execution_count": 29,
   "metadata": {},
   "outputs": [
    {
     "data": {
      "text/plain": [
       "(20484, 21)"
      ]
     },
     "execution_count": 29,
     "metadata": {},
     "output_type": "execute_result"
    }
   ],
   "source": [
    "t_stat.shape"
   ]
  },
  {
   "cell_type": "code",
   "execution_count": 25,
   "metadata": {},
   "outputs": [
    {
     "data": {
      "text/plain": [
       "(20484, 21)"
      ]
     },
     "execution_count": 25,
     "metadata": {},
     "output_type": "execute_result"
    }
   ],
   "source": [
    "p_val.shape"
   ]
  },
  {
   "cell_type": "code",
   "execution_count": 50,
   "metadata": {},
   "outputs": [],
   "source": [
    "p_val = vect_signed_p_val(t_stat, p_val)"
   ]
  },
  {
   "cell_type": "code",
   "execution_count": 51,
   "metadata": {},
   "outputs": [
    {
     "name": "stdout",
     "output_type": "stream",
     "text": [
      "-0.9396540982308526 0.3196111038583416 0.9692883138179542\n"
     ]
    }
   ],
   "source": [
    "print(p_val.min(), p_val.mean(), p_val.max())"
   ]
  },
  {
   "cell_type": "markdown",
   "metadata": {},
   "source": [
    "### save stc with p values"
   ]
  },
  {
   "cell_type": "code",
   "execution_count": 52,
   "metadata": {},
   "outputs": [
    {
     "name": "stdout",
     "output_type": "stream",
     "text": [
      "Writing STC to disk...\n",
      "[done]\n"
     ]
    }
   ],
   "source": [
    "stc_test.data = p_val\n",
    "stc_test.save('/net/server/data/Archive/prob_learn/vtretyakova/sources/beta_16_30/test_risk_neg_vs_pos/beta_16_30_risk_fb_cur_pos_vs_neg_pval_full_fdr')"
   ]
  },
  {
   "cell_type": "code",
   "execution_count": 53,
   "metadata": {},
   "outputs": [
    {
     "name": "stdout",
     "output_type": "stream",
     "text": [
      "Using control points [0.8830997  0.90892025 0.96794045]\n"
     ]
    },
    {
     "data": {
      "text/plain": [
       "<mne.viz._brain._brain.Brain at 0x7f5d740f8450>"
      ]
     },
     "execution_count": 53,
     "metadata": {},
     "output_type": "execute_result"
    }
   ],
   "source": [
    "stc_test.plot(hemi='both')"
   ]
  },
  {
   "cell_type": "markdown",
   "metadata": {},
   "source": [
    "### если нельзя сделать stc для p - value через присвоение, можно создать как объект\n",
    "\n",
    "p_val_stc = mne.SourceEstimate(data = p_val, vertices = stc_test.vertices,  tmin = stc_test.tmin, tstep = stc_test.tstep)\n",
    "\n",
    "p_val_stc.subject = 'fsaverage'   \n",
    "p_val_stc.save(path)"
   ]
  },
  {
   "cell_type": "markdown",
   "metadata": {},
   "source": [
    "# Если необхоидмо отрисовать цветом разницу сигналов"
   ]
  },
  {
   "cell_type": "code",
   "execution_count": 54,
   "metadata": {},
   "outputs": [],
   "source": [
    "mean_data = (comp2_per_sub - comp1_per_sub).mean(axis=0) # усредняем между испытуемыми"
   ]
  },
  {
   "cell_type": "code",
   "execution_count": 55,
   "metadata": {},
   "outputs": [
    {
     "name": "stdout",
     "output_type": "stream",
     "text": [
      "Writing STC to disk...\n",
      "[done]\n"
     ]
    }
   ],
   "source": [
    "stc_test.data = mean_data\n",
    "stc_test.save('/net/server/data/Archive/prob_learn/vtretyakova/sources/beta_16_30/test_risk_neg_vs_pos/beta_16_30_risk_fb_cur_pos_vs_neg_mean_beta')"
   ]
  },
  {
   "cell_type": "code",
   "execution_count": 57,
   "metadata": {},
   "outputs": [
    {
     "name": "stdout",
     "output_type": "stream",
     "text": [
      "Using control points [1.18596686 1.28215195 1.84813562]\n"
     ]
    },
    {
     "data": {
      "text/plain": [
       "<mne.viz._brain._brain.Brain at 0x7f5dc0066a10>"
      ]
     },
     "execution_count": 57,
     "metadata": {},
     "output_type": "execute_result"
    }
   ],
   "source": [
    "stc_test.plot(hemi='split')"
   ]
  }
 ],
 "metadata": {
  "kernelspec": {
   "display_name": "Python 3",
   "language": "python",
   "name": "python3"
  },
  "language_info": {
   "codemirror_mode": {
    "name": "ipython",
    "version": 3
   },
   "file_extension": ".py",
   "mimetype": "text/x-python",
   "name": "python",
   "nbconvert_exporter": "python",
   "pygments_lexer": "ipython3",
   "version": "3.7.10"
  }
 },
 "nbformat": 4,
 "nbformat_minor": 4
}
