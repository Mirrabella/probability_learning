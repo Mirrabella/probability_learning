{
 "cells": [
  {
   "cell_type": "markdown",
   "id": "6faa1664",
   "metadata": {},
   "source": [
    "# Drop insignificant area from source"
   ]
  },
  {
   "cell_type": "code",
   "execution_count": 1,
   "id": "0f22fd85",
   "metadata": {},
   "outputs": [],
   "source": [
    "import os\n",
    "import mne\n",
    "import numpy as np\n",
    "import pandas as pd\n",
    "from scipy import stats\n",
    "from statsmodels.stats import multitest as mul\n",
    "\n",
    "mne.viz.set_3d_options(antialias = False)\n"
   ]
  },
  {
   "cell_type": "code",
   "execution_count": 2,
   "id": "405c97c5",
   "metadata": {},
   "outputs": [],
   "source": [
    "subjects_dir = '/net/server/data/Archive/prob_learn/freesurfer'\n"
   ]
  },
  {
   "cell_type": "markdown",
   "id": "9b1efb4e",
   "metadata": {},
   "source": [
    "# Download stc with pvalue"
   ]
  },
  {
   "cell_type": "code",
   "execution_count": 3,
   "id": "9c7622a8",
   "metadata": {},
   "outputs": [],
   "source": [
    "stc_pvalue = mne.read_source_estimate('/net/server/data/Archive/prob_learn/pultsinak/sources_sLoreta/averege_betwen_subj/pos_neg_1500_1900/after_fb_lp_pos_vs_neg_pval_fullfdr_1500_1900', 'fsaverage')\n",
    "\n"
   ]
  },
  {
   "cell_type": "markdown",
   "id": "b92da90d",
   "metadata": {},
   "source": [
    "# Plotting Pvalue "
   ]
  },
  {
   "cell_type": "code",
   "execution_count": 73,
   "id": "e223c56a",
   "metadata": {},
   "outputs": [],
   "source": [
    "scale = [0.95, 0.99, 1.0]\n",
    "brain = mne.viz.plot_source_estimates(stc_pvalue, hemi='split', views = ['lat', 'med'], \n",
    "                                      time_viewer='auto', clim = dict(kind = 'value', lims = scale))    "
   ]
  },
  {
   "cell_type": "code",
   "execution_count": 74,
   "id": "a3ef3068",
   "metadata": {},
   "outputs": [],
   "source": [
    "stc_pvalue_nofdr = mne.read_source_estimate('/net/server/data/Archive/prob_learn/pultsinak/sources_sLoreta/averege_betwen_subj/pos_neg_1500_1900/after_fb_lp_pos_vs_neg_pval_nofdr_1500_1900', 'fsaverage')\n",
    "scale = [0.95, 0.99, 1.0]\n",
    "brain = mne.viz.plot_source_estimates(stc_pvalue_nofdr, hemi='split', views = ['lat', 'med'], \n",
    "                                      time_viewer='auto', clim = dict(kind = 'value', lims = scale))    "
   ]
  },
  {
   "cell_type": "code",
   "execution_count": 50,
   "id": "9837e15a",
   "metadata": {},
   "outputs": [
    {
     "data": {
      "text/plain": [
       "(20484, 1)"
      ]
     },
     "execution_count": 50,
     "metadata": {},
     "output_type": "execute_result"
    }
   ],
   "source": [
    "stc_pvalue.data.shape\n"
   ]
  },
  {
   "cell_type": "code",
   "execution_count": 51,
   "id": "9c76652d",
   "metadata": {},
   "outputs": [
    {
     "data": {
      "text/plain": [
       "numpy.ndarray"
      ]
     },
     "execution_count": 51,
     "metadata": {},
     "output_type": "execute_result"
    }
   ],
   "source": [
    "type(stc_pvalue.data)"
   ]
  },
  {
   "cell_type": "code",
   "execution_count": 4,
   "id": "9f9383bd",
   "metadata": {},
   "outputs": [
    {
     "name": "stdout",
     "output_type": "stream",
     "text": [
      "0.998612\n"
     ]
    }
   ],
   "source": [
    "stc_pvalue_lh_reshape = np.reshape(stc_pvalue.lh_data, 10242)\n",
    "stc_pvalue_rh_reshape = np.reshape(stc_pvalue.rh_data, 10242)\n",
    "print(stc_pvalue_lh_reshape[0])"
   ]
  },
  {
   "cell_type": "code",
   "execution_count": 53,
   "id": "d8ac6302",
   "metadata": {},
   "outputs": [
    {
     "data": {
      "text/plain": [
       "array([    0,     1,     2, ..., 10239, 10240, 10241])"
      ]
     },
     "execution_count": 53,
     "metadata": {},
     "output_type": "execute_result"
    }
   ],
   "source": [
    "stc_pvalue.vertices[0] # left hemispere"
   ]
  },
  {
   "cell_type": "code",
   "execution_count": 6,
   "id": "7d3776cb",
   "metadata": {},
   "outputs": [],
   "source": [
    "index_lh = []\n",
    "\n",
    "for i, p in enumerate(stc_pvalue_lh_reshape):\n",
    "    if p >= 0.95 or p <= -0.95:\n",
    "        index_lh.append(i)"
   ]
  },
  {
   "cell_type": "code",
   "execution_count": 7,
   "id": "4299ad31",
   "metadata": {},
   "outputs": [
    {
     "data": {
      "text/plain": [
       "7820"
      ]
     },
     "execution_count": 7,
     "metadata": {},
     "output_type": "execute_result"
    }
   ],
   "source": [
    "len(index_lh)"
   ]
  },
  {
   "cell_type": "code",
   "execution_count": 8,
   "id": "2205287f",
   "metadata": {},
   "outputs": [],
   "source": [
    "index_rh = []\n",
    "\n",
    "for i, p in enumerate(stc_pvalue_rh_reshape):\n",
    "    if p >= 0.95 or p <= -0.95:\n",
    "        index_rh.append(i)"
   ]
  },
  {
   "cell_type": "code",
   "execution_count": 9,
   "id": "09fee1ec",
   "metadata": {},
   "outputs": [
    {
     "data": {
      "text/plain": [
       "6100"
      ]
     },
     "execution_count": 9,
     "metadata": {},
     "output_type": "execute_result"
    }
   ],
   "source": [
    "len(index_rh)"
   ]
  },
  {
   "cell_type": "markdown",
   "id": "07408522",
   "metadata": {},
   "source": [
    "# Download stc with data"
   ]
  },
  {
   "cell_type": "code",
   "execution_count": 58,
   "id": "4b95ad3c",
   "metadata": {},
   "outputs": [],
   "source": [
    "stc_data = mne.read_source_estimate('/net/server/data/Archive/prob_learn/pultsinak/sources_sLoreta/averege_betwen_subj/pos_neg_1500_1900/after_fb_lp_pos_vs_neg_mean_beta_1500_1900', 'fsaverage')\n",
    "\n"
   ]
  },
  {
   "cell_type": "code",
   "execution_count": 59,
   "id": "801c53f6",
   "metadata": {},
   "outputs": [
    {
     "data": {
      "text/plain": [
       "(20484, 1)"
      ]
     },
     "execution_count": 59,
     "metadata": {},
     "output_type": "execute_result"
    }
   ],
   "source": [
    "stc_data.shape"
   ]
  },
  {
   "cell_type": "code",
   "execution_count": 60,
   "id": "17aa65b7",
   "metadata": {},
   "outputs": [],
   "source": [
    "stc_data_lh_reshape = np.reshape(stc_data.lh_data, 10242)\n",
    "stc_data_rh_reshape = np.reshape(stc_data.rh_data, 10242)"
   ]
  },
  {
   "cell_type": "code",
   "execution_count": 61,
   "id": "c3aebd3e",
   "metadata": {},
   "outputs": [],
   "source": [
    "# both hemi\n",
    "hemisphere = [0,1]\n",
    "indexes = [index_lh, index_rh]\n",
    "stc_reshape_hemi = [stc_data_lh_reshape, stc_data_rh_reshape]\n",
    "for i in hemisphere:\n",
    "    for j in stc_data.vertices[i]:\n",
    "        if j not in indexes[i]:\n",
    "            stc_reshape_hemi[i][j] = 0\n",
    "        "
   ]
  },
  {
   "cell_type": "code",
   "execution_count": 62,
   "id": "5cf1da2a",
   "metadata": {},
   "outputs": [
    {
     "data": {
      "text/plain": [
       "(10242, 1)"
      ]
     },
     "execution_count": 62,
     "metadata": {},
     "output_type": "execute_result"
    }
   ],
   "source": [
    "stc_rh_new = stc_data_rh_reshape.reshape((10242, 1))\n",
    "stc_rh_new.shape"
   ]
  },
  {
   "cell_type": "code",
   "execution_count": 63,
   "id": "527e8d2e",
   "metadata": {},
   "outputs": [
    {
     "data": {
      "text/plain": [
       "(10242, 1)"
      ]
     },
     "execution_count": 63,
     "metadata": {},
     "output_type": "execute_result"
    }
   ],
   "source": [
    "stc_lh_new = stc_data_lh_reshape.reshape((10242, 1))\n",
    "stc_lh_new.shape"
   ]
  },
  {
   "cell_type": "code",
   "execution_count": 64,
   "id": "7cb44a70",
   "metadata": {},
   "outputs": [],
   "source": [
    "stc_data.data[:10242] = stc_lh_new\n",
    "stc_data.data[10242:] = stc_rh_new"
   ]
  },
  {
   "cell_type": "code",
   "execution_count": 65,
   "id": "60c6a2cf",
   "metadata": {},
   "outputs": [],
   "source": [
    "scale = [0.48, 0.7, 0.85]\n",
    "brain = mne.viz.plot_source_estimates(stc_data, hemi='split', views = ['lat', 'med'], \n",
    "                                      time_viewer='auto', clim = dict(kind = 'value', lims = scale))   "
   ]
  },
  {
   "cell_type": "code",
   "execution_count": null,
   "id": "5e6037d3",
   "metadata": {},
   "outputs": [],
   "source": []
  }
 ],
 "metadata": {
  "kernelspec": {
   "display_name": "Python 3 (ipykernel)",
   "language": "python",
   "name": "python3"
  },
  "language_info": {
   "codemirror_mode": {
    "name": "ipython",
    "version": 3
   },
   "file_extension": ".py",
   "mimetype": "text/x-python",
   "name": "python",
   "nbconvert_exporter": "python",
   "pygments_lexer": "ipython3",
   "version": "3.9.7"
  }
 },
 "nbformat": 4,
 "nbformat_minor": 5
}
