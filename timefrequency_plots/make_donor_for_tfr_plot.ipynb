{
 "cells": [
  {
   "cell_type": "markdown",
   "metadata": {},
   "source": [
    "# make donor"
   ]
  },
  {
   "cell_type": "code",
   "execution_count": 1,
   "metadata": {},
   "outputs": [],
   "source": [
    "import os.path as op\n",
    "\n",
    "import numpy as np\n",
    "import matplotlib.pyplot as plt\n",
    "\n",
    "import mne\n",
    "from mne.time_frequency import tfr_morlet, psd_multitaper, psd_welch\n",
    "#from mne.datasets import somato\n",
    "import copy\n",
    "\n",
    "import os"
   ]
  },
  {
   "cell_type": "code",
   "execution_count": 2,
   "metadata": {},
   "outputs": [],
   "source": [
    "subj = 'P001'\n",
    "r = 2\n",
    "cond = 'risk'\n",
    "fb = 'negative'\n",
    "\n",
    "L_freq = 2\n",
    "H_freq = 40\n",
    "f_step = 1\n",
    "freqs = np.arange(L_freq, H_freq, f_step)\n",
    "#for others\n",
    "n_cycles = freqs//2\n",
    "\n",
    "period_start = -1.750\n",
    "period_end = 2.750\n",
    "\n",
    "baseline = (-0.35, -0.05)\n",
    "\n",
    "data_path = '/net/server/data/Archive/prob_learn/vtretyakova/ICA_cleaned'"
   ]
  },
  {
   "cell_type": "code",
   "execution_count": 8,
   "metadata": {},
   "outputs": [
    {
     "name": "stdout",
     "output_type": "stream",
     "text": [
      "Opening raw data file /net/server/data/Archive/prob_learn/vtretyakova/ICA_cleaned/P001/run2_P001_raw_ica.fif...\n",
      "    Range : 154000 ... 303999 =    154.000 ...   303.999 secs\n",
      "Ready.\n",
      "Reading 0 ... 149999  =      0.000 ...   149.999 secs...\n"
     ]
    },
    {
     "name": "stderr",
     "output_type": "stream",
     "text": [
      "<ipython-input-8-3ffef112c9de>:22: RuntimeWarning: This filename (/net/server/data/Archive/prob_learn/vtretyakova/ICA_cleaned/P001/run2_P001_raw_ica.fif) does not conform to MNE naming conventions. All raw files should end with raw.fif, raw_sss.fif, raw_tsss.fif, raw.fif.gz, raw_sss.fif.gz, raw_tsss.fif.gz or _meg.fif\n",
      "  raw_data = mne.io.Raw(raw_fname, preload=True)\n"
     ]
    },
    {
     "name": "stdout",
     "output_type": "stream",
     "text": [
      "Not setting metadata\n",
      "Not setting metadata\n",
      "25 matching events found\n",
      "No baseline correction applied\n",
      "0 projection items activated\n",
      "Loading data for 25 events and 2001 original time points ...\n",
      "0 bad epochs dropped\n",
      "Not setting metadata\n",
      "Not setting metadata\n",
      "Not setting metadata\n",
      "2 matching events found\n",
      "No baseline correction applied\n",
      "0 projection items activated\n",
      "Loading data for 2 events and 4501 original time points ...\n",
      "0 bad epochs dropped\n",
      "Not setting metadata\n"
     ]
    },
    {
     "data": {
      "text/plain": [
       "(2, 102, 38, 1350)"
      ]
     },
     "execution_count": 8,
     "metadata": {},
     "output_type": "execute_result"
    }
   ],
   "source": [
    "events_pos = np.loadtxt(\"/net/server/data/Archive/prob_learn/vtretyakova/Nikita_mio_cleaned/fix_cross_mio_corr/{0}_run{1}_norisk_fb_cur_positive_fix_cross.txt\".format(subj, r), dtype='int') \n",
    "if events_pos.shape == (3,):\n",
    "    events_pos = events_pos.reshape(1,3)\n",
    "    \n",
    "events_neg = np.loadtxt(\"/net/server/data/Archive/prob_learn/vtretyakova/Nikita_mio_cleaned/fix_cross_mio_corr/{0}_run{1}_norisk_fb_cur_negative_fix_cross.txt\".format(subj, r), dtype='int')\n",
    "if events_neg.shape == (3,):\n",
    "    events_neg = events_neg.reshape(1,3) \n",
    "    \n",
    "#объединяем негативные и позитивные фидбеки для получения общего бейзлайна по ним, и сортируем массив, чтобы времена меток шли в порядке возрастания    \n",
    "events = np.vstack([events_pos, events_neg])\n",
    "events = np.sort(events, axis = 0) \n",
    "\n",
    "#events, which we need\n",
    "events_response = np.loadtxt('/net/server/data/Archive/prob_learn/vtretyakova/Nikita_mio_cleaned/events_by_cond_mio_corrected/{0}_run{1}_{2}_fb_cur_{3}.txt'.format(subj, r, cond, fb), dtype='int')\n",
    "# если только одна метка, т.е. одна эпоха, то выдается ошибка, поэтому приводи shape к виду (N,3)\n",
    "if events_response.shape == (3,):\n",
    "    events_response = events_response.reshape(1,3)\n",
    "    \n",
    "    \n",
    "raw_fname = op.join(data_path, '{0}/run{1}_{0}_raw_ica.fif'.format(subj, r))\n",
    "\n",
    "raw_data = mne.io.Raw(raw_fname, preload=True)\n",
    "        \n",
    "    \n",
    "picks = mne.pick_types(raw_data.info, meg = 'planar1', eog = True)\n",
    "\n",
    "#epochs for baseline\n",
    "    # baseline = None, чтобы не вычитался дефолтный бейзлайн\n",
    "epochs = mne.Epochs(raw_data, events, event_id = None, tmin = -1.0, tmax = 1.0, baseline = None, picks = picks, preload = True)\n",
    "epochs.resample(300)\n",
    "\n",
    "freq_show_baseline = mne.time_frequency.tfr_multitaper(epochs, freqs = freqs, n_cycles = n_cycles, use_fft = False, return_itc = False, average=False).crop(tmin=baseline[0], tmax=baseline[1], include_tmax=True) #frequency of baseline\n",
    "\n",
    "b_line = np.swapaxes(freq_show_baseline.data, 0, 1)\n",
    "b_line = np.swapaxes(b_line, 1, 2)\n",
    "b_line.shape\n",
    "\n",
    "a, b, c, d = b_line.shape\n",
    "b_line = b_line.reshape(a, b, c * d)\n",
    "b_line.shape\n",
    "\n",
    "####### ДЛЯ ДАННЫХ ##############\n",
    "# baseline = None, чтобы не вычитался дефолтный бейзлайн\n",
    "epochs = mne.Epochs(raw_data, events_response, event_id = None, tmin = period_start, \n",
    "\t\t                tmax = period_end, baseline = None, picks = picks, preload = True)\n",
    "\t\t       \n",
    "epochs.resample(300) \n",
    "\n",
    "freq_show = mne.time_frequency.tfr_multitaper(epochs, freqs = freqs, n_cycles = n_cycles, use_fft = False, return_itc = False, average=False)\n",
    "\n",
    "####### Для данных так же меняем оси местами\n",
    "data = np.swapaxes(freq_show.data, 0, 1)\n",
    "#data.shape\n",
    "data = np.swapaxes(data, 1, 2)\n",
    "data = np.swapaxes(data, 2, 3)\n",
    "# Усредняем бейзлайн по всем точкам, получаем одно число (которое будем вычитать из data для каждого канала)\n",
    "\t    \n",
    "b = b_line.mean(axis=-1)\n",
    "\t    \n",
    "    \n",
    "b_line_new_shape = b[:, :, np.newaxis, np.newaxis]\n",
    "#b_line_new_shape.shape\n",
    "\n",
    "data = 10*np.log10(data/b_line_new_shape)\n",
    "\n",
    "data = np.swapaxes(data, 2, 3)\n",
    "data = np.swapaxes(data, 1, 2)\n",
    "data = np.swapaxes(data, 0, 1)\n",
    "data.shape"
   ]
  },
  {
   "cell_type": "code",
   "execution_count": 9,
   "metadata": {},
   "outputs": [],
   "source": [
    "freq_show.data = data\n",
    "freq_show.save('/home/vtretyakova/Рабочий стол/time_frequency_plots/donor_combined_planars.h5', overwrite=True)"
   ]
  },
  {
   "cell_type": "code",
   "execution_count": null,
   "metadata": {},
   "outputs": [],
   "source": [
    "# "
   ]
  }
 ],
 "metadata": {
  "kernelspec": {
   "display_name": "Python 3",
   "language": "python",
   "name": "python3"
  },
  "language_info": {
   "codemirror_mode": {
    "name": "ipython",
    "version": 3
   },
   "file_extension": ".py",
   "mimetype": "text/x-python",
   "name": "python",
   "nbconvert_exporter": "python",
   "pygments_lexer": "ipython3",
   "version": "3.7.10"
  }
 },
 "nbformat": 4,
 "nbformat_minor": 4
}
